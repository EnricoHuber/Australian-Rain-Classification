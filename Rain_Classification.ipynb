{
  "nbformat": 4,
  "nbformat_minor": 0,
  "metadata": {
    "colab": {
      "name": "Rain Classification.ipynb",
      "provenance": [],
      "collapsed_sections": [],
      "mount_file_id": "113SyYbbTqpfdJsRAosXUya50izIxhhT7",
      "authorship_tag": "ABX9TyOwe7W8JWgUI4pAqhbW4plj",
      "include_colab_link": true
    },
    "kernelspec": {
      "name": "python3",
      "display_name": "Python 3"
    },
    "language_info": {
      "name": "python"
    },
    "accelerator": "GPU"
  },
  "cells": [
    {
      "cell_type": "markdown",
      "metadata": {
        "id": "view-in-github",
        "colab_type": "text"
      },
      "source": [
        "<a href=\"https://colab.research.google.com/github/EnricoHuber/Australian-Rain-Classification/blob/main/Rain_Classification.ipynb\" target=\"_parent\"><img src=\"https://colab.research.google.com/assets/colab-badge.svg\" alt=\"Open In Colab\"/></a>"
      ]
    },
    {
      "cell_type": "markdown",
      "metadata": {
        "id": "lc-JuUT9E91A"
      },
      "source": [
        "Dataset is taken from [Kaggle](https://www.kaggle.com/jsphyg/weather-dataset-rattle-package)"
      ]
    },
    {
      "cell_type": "code",
      "metadata": {
        "id": "GrkJco0ETr3K"
      },
      "source": [
        "%tensorflow_version 2.x"
      ],
      "execution_count": null,
      "outputs": []
    },
    {
      "cell_type": "code",
      "metadata": {
        "id": "O5xgTleC2YbL"
      },
      "source": [
        "import pandas as pd\n",
        "import numpy as np\n",
        "import os\n",
        "import time\n",
        "from sklearn.model_selection import train_test_split\n",
        "import matplotlib.pyplot as plt\n",
        "import tensorflow as tf\n",
        "from tensorflow import keras\n",
        "\n",
        "from sklearn.preprocessing import OneHotEncoder\n",
        "from sklearn.impute import SimpleImputer\n",
        "from sklearn.preprocessing import StandardScaler\n",
        "from sklearn.pipeline import Pipeline\n",
        "from sklearn.compose import ColumnTransformer\n",
        "from sklearn.linear_model import LogisticRegression\n",
        "from sklearn.model_selection import cross_val_score\n",
        "from sklearn.preprocessing import LabelEncoder\n",
        "from sklearn.svm import SVC\n",
        "from sklearn.ensemble import AdaBoostClassifier, RandomForestClassifier, BaggingClassifier, GradientBoostingClassifier"
      ],
      "execution_count": null,
      "outputs": []
    },
    {
      "cell_type": "markdown",
      "metadata": {
        "id": "3j_H_LVBJ5Hz"
      },
      "source": [
        "# Get the Data"
      ]
    },
    {
      "cell_type": "code",
      "metadata": {
        "colab": {
          "base_uri": "https://localhost:8080/"
        },
        "id": "cJEYJU8nFsk5",
        "outputId": "fca16b52-c887-4e1f-bd72-ba046239703d"
      },
      "source": [
        "from google.colab import drive\n",
        "drive.mount('/content/drive', force_remount=True)"
      ],
      "execution_count": null,
      "outputs": [
        {
          "output_type": "stream",
          "text": [
            "Mounted at /content/drive\n"
          ],
          "name": "stdout"
        }
      ]
    },
    {
      "cell_type": "code",
      "metadata": {
        "id": "IJzUSZQG4jtq"
      },
      "source": [
        "def get_filepath(file, folder):\n",
        "  dirpath = os.sep + 'content' + os.sep + 'drive' + os.sep + 'MyDrive' + os.sep + folder\n",
        "  filepath = os.path.join(dirpath, file)\n",
        "  return filepath"
      ],
      "execution_count": null,
      "outputs": []
    },
    {
      "cell_type": "code",
      "metadata": {
        "id": "GVElJPYF5_Mg"
      },
      "source": [
        "directory = 'DATASETS'\n",
        "filename = 'weatherAUS.csv'\n",
        "file_path = get_filepath(filename, directory)"
      ],
      "execution_count": null,
      "outputs": []
    },
    {
      "cell_type": "code",
      "metadata": {
        "colab": {
          "base_uri": "https://localhost:8080/",
          "height": 36
        },
        "id": "Ms5ONvg26SAr",
        "outputId": "fa4b419e-76ad-4bce-9982-16c0c857e4fe"
      },
      "source": [
        "file_path"
      ],
      "execution_count": null,
      "outputs": [
        {
          "output_type": "execute_result",
          "data": {
            "application/vnd.google.colaboratory.intrinsic+json": {
              "type": "string"
            },
            "text/plain": [
              "'/content/drive/MyDrive/DATASETS/weatherAUS.csv'"
            ]
          },
          "metadata": {
            "tags": []
          },
          "execution_count": 6
        }
      ]
    },
    {
      "cell_type": "code",
      "metadata": {
        "id": "lM1R61Tk48ei"
      },
      "source": [
        "dataset = pd.read_csv(file_path)"
      ],
      "execution_count": null,
      "outputs": []
    },
    {
      "cell_type": "markdown",
      "metadata": {
        "id": "VY63Sp63J1VS"
      },
      "source": [
        "# Explore the Data"
      ]
    },
    {
      "cell_type": "code",
      "metadata": {
        "colab": {
          "base_uri": "https://localhost:8080/"
        },
        "id": "Fvv2pcuf6brQ",
        "outputId": "d8c40c74-1ad0-495f-cbeb-280c798c2df6"
      },
      "source": [
        "dataset.info()"
      ],
      "execution_count": null,
      "outputs": [
        {
          "output_type": "stream",
          "text": [
            "<class 'pandas.core.frame.DataFrame'>\n",
            "RangeIndex: 145460 entries, 0 to 145459\n",
            "Data columns (total 23 columns):\n",
            " #   Column         Non-Null Count   Dtype  \n",
            "---  ------         --------------   -----  \n",
            " 0   Date           145460 non-null  object \n",
            " 1   Location       145460 non-null  object \n",
            " 2   MinTemp        143975 non-null  float64\n",
            " 3   MaxTemp        144199 non-null  float64\n",
            " 4   Rainfall       142199 non-null  float64\n",
            " 5   Evaporation    82670 non-null   float64\n",
            " 6   Sunshine       75625 non-null   float64\n",
            " 7   WindGustDir    135134 non-null  object \n",
            " 8   WindGustSpeed  135197 non-null  float64\n",
            " 9   WindDir9am     134894 non-null  object \n",
            " 10  WindDir3pm     141232 non-null  object \n",
            " 11  WindSpeed9am   143693 non-null  float64\n",
            " 12  WindSpeed3pm   142398 non-null  float64\n",
            " 13  Humidity9am    142806 non-null  float64\n",
            " 14  Humidity3pm    140953 non-null  float64\n",
            " 15  Pressure9am    130395 non-null  float64\n",
            " 16  Pressure3pm    130432 non-null  float64\n",
            " 17  Cloud9am       89572 non-null   float64\n",
            " 18  Cloud3pm       86102 non-null   float64\n",
            " 19  Temp9am        143693 non-null  float64\n",
            " 20  Temp3pm        141851 non-null  float64\n",
            " 21  RainToday      142199 non-null  object \n",
            " 22  RainTomorrow   142193 non-null  object \n",
            "dtypes: float64(16), object(7)\n",
            "memory usage: 25.5+ MB\n"
          ],
          "name": "stdout"
        }
      ]
    },
    {
      "cell_type": "code",
      "metadata": {
        "colab": {
          "base_uri": "https://localhost:8080/",
          "height": 320
        },
        "id": "oT_uxx2d6c-A",
        "outputId": "0fa1f0f9-2714-473f-f3f3-16d7361a2dfd"
      },
      "source": [
        "dataset.describe()"
      ],
      "execution_count": null,
      "outputs": [
        {
          "output_type": "execute_result",
          "data": {
            "text/html": [
              "<div>\n",
              "<style scoped>\n",
              "    .dataframe tbody tr th:only-of-type {\n",
              "        vertical-align: middle;\n",
              "    }\n",
              "\n",
              "    .dataframe tbody tr th {\n",
              "        vertical-align: top;\n",
              "    }\n",
              "\n",
              "    .dataframe thead th {\n",
              "        text-align: right;\n",
              "    }\n",
              "</style>\n",
              "<table border=\"1\" class=\"dataframe\">\n",
              "  <thead>\n",
              "    <tr style=\"text-align: right;\">\n",
              "      <th></th>\n",
              "      <th>MinTemp</th>\n",
              "      <th>MaxTemp</th>\n",
              "      <th>Rainfall</th>\n",
              "      <th>Evaporation</th>\n",
              "      <th>Sunshine</th>\n",
              "      <th>WindGustSpeed</th>\n",
              "      <th>WindSpeed9am</th>\n",
              "      <th>WindSpeed3pm</th>\n",
              "      <th>Humidity9am</th>\n",
              "      <th>Humidity3pm</th>\n",
              "      <th>Pressure9am</th>\n",
              "      <th>Pressure3pm</th>\n",
              "      <th>Cloud9am</th>\n",
              "      <th>Cloud3pm</th>\n",
              "      <th>Temp9am</th>\n",
              "      <th>Temp3pm</th>\n",
              "    </tr>\n",
              "  </thead>\n",
              "  <tbody>\n",
              "    <tr>\n",
              "      <th>count</th>\n",
              "      <td>143975.000000</td>\n",
              "      <td>144199.000000</td>\n",
              "      <td>142199.000000</td>\n",
              "      <td>82670.000000</td>\n",
              "      <td>75625.000000</td>\n",
              "      <td>135197.000000</td>\n",
              "      <td>143693.000000</td>\n",
              "      <td>142398.000000</td>\n",
              "      <td>142806.000000</td>\n",
              "      <td>140953.000000</td>\n",
              "      <td>130395.00000</td>\n",
              "      <td>130432.000000</td>\n",
              "      <td>89572.000000</td>\n",
              "      <td>86102.000000</td>\n",
              "      <td>143693.000000</td>\n",
              "      <td>141851.00000</td>\n",
              "    </tr>\n",
              "    <tr>\n",
              "      <th>mean</th>\n",
              "      <td>12.194034</td>\n",
              "      <td>23.221348</td>\n",
              "      <td>2.360918</td>\n",
              "      <td>5.468232</td>\n",
              "      <td>7.611178</td>\n",
              "      <td>40.035230</td>\n",
              "      <td>14.043426</td>\n",
              "      <td>18.662657</td>\n",
              "      <td>68.880831</td>\n",
              "      <td>51.539116</td>\n",
              "      <td>1017.64994</td>\n",
              "      <td>1015.255889</td>\n",
              "      <td>4.447461</td>\n",
              "      <td>4.509930</td>\n",
              "      <td>16.990631</td>\n",
              "      <td>21.68339</td>\n",
              "    </tr>\n",
              "    <tr>\n",
              "      <th>std</th>\n",
              "      <td>6.398495</td>\n",
              "      <td>7.119049</td>\n",
              "      <td>8.478060</td>\n",
              "      <td>4.193704</td>\n",
              "      <td>3.785483</td>\n",
              "      <td>13.607062</td>\n",
              "      <td>8.915375</td>\n",
              "      <td>8.809800</td>\n",
              "      <td>19.029164</td>\n",
              "      <td>20.795902</td>\n",
              "      <td>7.10653</td>\n",
              "      <td>7.037414</td>\n",
              "      <td>2.887159</td>\n",
              "      <td>2.720357</td>\n",
              "      <td>6.488753</td>\n",
              "      <td>6.93665</td>\n",
              "    </tr>\n",
              "    <tr>\n",
              "      <th>min</th>\n",
              "      <td>-8.500000</td>\n",
              "      <td>-4.800000</td>\n",
              "      <td>0.000000</td>\n",
              "      <td>0.000000</td>\n",
              "      <td>0.000000</td>\n",
              "      <td>6.000000</td>\n",
              "      <td>0.000000</td>\n",
              "      <td>0.000000</td>\n",
              "      <td>0.000000</td>\n",
              "      <td>0.000000</td>\n",
              "      <td>980.50000</td>\n",
              "      <td>977.100000</td>\n",
              "      <td>0.000000</td>\n",
              "      <td>0.000000</td>\n",
              "      <td>-7.200000</td>\n",
              "      <td>-5.40000</td>\n",
              "    </tr>\n",
              "    <tr>\n",
              "      <th>25%</th>\n",
              "      <td>7.600000</td>\n",
              "      <td>17.900000</td>\n",
              "      <td>0.000000</td>\n",
              "      <td>2.600000</td>\n",
              "      <td>4.800000</td>\n",
              "      <td>31.000000</td>\n",
              "      <td>7.000000</td>\n",
              "      <td>13.000000</td>\n",
              "      <td>57.000000</td>\n",
              "      <td>37.000000</td>\n",
              "      <td>1012.90000</td>\n",
              "      <td>1010.400000</td>\n",
              "      <td>1.000000</td>\n",
              "      <td>2.000000</td>\n",
              "      <td>12.300000</td>\n",
              "      <td>16.60000</td>\n",
              "    </tr>\n",
              "    <tr>\n",
              "      <th>50%</th>\n",
              "      <td>12.000000</td>\n",
              "      <td>22.600000</td>\n",
              "      <td>0.000000</td>\n",
              "      <td>4.800000</td>\n",
              "      <td>8.400000</td>\n",
              "      <td>39.000000</td>\n",
              "      <td>13.000000</td>\n",
              "      <td>19.000000</td>\n",
              "      <td>70.000000</td>\n",
              "      <td>52.000000</td>\n",
              "      <td>1017.60000</td>\n",
              "      <td>1015.200000</td>\n",
              "      <td>5.000000</td>\n",
              "      <td>5.000000</td>\n",
              "      <td>16.700000</td>\n",
              "      <td>21.10000</td>\n",
              "    </tr>\n",
              "    <tr>\n",
              "      <th>75%</th>\n",
              "      <td>16.900000</td>\n",
              "      <td>28.200000</td>\n",
              "      <td>0.800000</td>\n",
              "      <td>7.400000</td>\n",
              "      <td>10.600000</td>\n",
              "      <td>48.000000</td>\n",
              "      <td>19.000000</td>\n",
              "      <td>24.000000</td>\n",
              "      <td>83.000000</td>\n",
              "      <td>66.000000</td>\n",
              "      <td>1022.40000</td>\n",
              "      <td>1020.000000</td>\n",
              "      <td>7.000000</td>\n",
              "      <td>7.000000</td>\n",
              "      <td>21.600000</td>\n",
              "      <td>26.40000</td>\n",
              "    </tr>\n",
              "    <tr>\n",
              "      <th>max</th>\n",
              "      <td>33.900000</td>\n",
              "      <td>48.100000</td>\n",
              "      <td>371.000000</td>\n",
              "      <td>145.000000</td>\n",
              "      <td>14.500000</td>\n",
              "      <td>135.000000</td>\n",
              "      <td>130.000000</td>\n",
              "      <td>87.000000</td>\n",
              "      <td>100.000000</td>\n",
              "      <td>100.000000</td>\n",
              "      <td>1041.00000</td>\n",
              "      <td>1039.600000</td>\n",
              "      <td>9.000000</td>\n",
              "      <td>9.000000</td>\n",
              "      <td>40.200000</td>\n",
              "      <td>46.70000</td>\n",
              "    </tr>\n",
              "  </tbody>\n",
              "</table>\n",
              "</div>"
            ],
            "text/plain": [
              "             MinTemp        MaxTemp  ...        Temp9am       Temp3pm\n",
              "count  143975.000000  144199.000000  ...  143693.000000  141851.00000\n",
              "mean       12.194034      23.221348  ...      16.990631      21.68339\n",
              "std         6.398495       7.119049  ...       6.488753       6.93665\n",
              "min        -8.500000      -4.800000  ...      -7.200000      -5.40000\n",
              "25%         7.600000      17.900000  ...      12.300000      16.60000\n",
              "50%        12.000000      22.600000  ...      16.700000      21.10000\n",
              "75%        16.900000      28.200000  ...      21.600000      26.40000\n",
              "max        33.900000      48.100000  ...      40.200000      46.70000\n",
              "\n",
              "[8 rows x 16 columns]"
            ]
          },
          "metadata": {
            "tags": []
          },
          "execution_count": 9
        }
      ]
    },
    {
      "cell_type": "code",
      "metadata": {
        "colab": {
          "base_uri": "https://localhost:8080/"
        },
        "id": "Hv_F8_XA63-b",
        "outputId": "3a0e6cc1-4391-4346-b03e-91aad253a84a"
      },
      "source": [
        "print(dataset.head(), dataset.tail(), sep='\\n')"
      ],
      "execution_count": null,
      "outputs": [
        {
          "output_type": "stream",
          "text": [
            "         Date Location  MinTemp  ...  Temp3pm  RainToday  RainTomorrow\n",
            "0  2008-12-01   Albury     13.4  ...     21.8         No            No\n",
            "1  2008-12-02   Albury      7.4  ...     24.3         No            No\n",
            "2  2008-12-03   Albury     12.9  ...     23.2         No            No\n",
            "3  2008-12-04   Albury      9.2  ...     26.5         No            No\n",
            "4  2008-12-05   Albury     17.5  ...     29.7         No            No\n",
            "\n",
            "[5 rows x 23 columns]\n",
            "              Date Location  MinTemp  ...  Temp3pm  RainToday  RainTomorrow\n",
            "145455  2017-06-21    Uluru      2.8  ...     22.4         No            No\n",
            "145456  2017-06-22    Uluru      3.6  ...     24.5         No            No\n",
            "145457  2017-06-23    Uluru      5.4  ...     26.1         No            No\n",
            "145458  2017-06-24    Uluru      7.8  ...     26.0         No            No\n",
            "145459  2017-06-25    Uluru     14.9  ...     20.9         No           NaN\n",
            "\n",
            "[5 rows x 23 columns]\n"
          ],
          "name": "stdout"
        }
      ]
    },
    {
      "cell_type": "code",
      "metadata": {
        "colab": {
          "base_uri": "https://localhost:8080/",
          "height": 716
        },
        "id": "ysyujRvc_ZqH",
        "outputId": "14915453-3c0e-4fa0-980a-82da19c351c3"
      },
      "source": [
        "dataset.hist(bins=20, figsize=(15, 12))\n",
        "plt.show()"
      ],
      "execution_count": null,
      "outputs": [
        {
          "output_type": "display_data",
          "data": {
            "image/png": "[encoded data removed]",
            "text/plain": [
              "<Figure size 1080x864 with 16 Axes>"
            ]
          },
          "metadata": {
            "tags": [],
            "needs_background": "light"
          }
        }
      ]
    },
    {
      "cell_type": "code",
      "metadata": {
        "id": "I84PVwVj8ivB"
      },
      "source": [
        "train_set, test_set = train_test_split(dataset, test_size=0.2, random_state=42)"
      ],
      "execution_count": null,
      "outputs": []
    },
    {
      "cell_type": "code",
      "metadata": {
        "colab": {
          "base_uri": "https://localhost:8080/"
        },
        "id": "sHAwgC338teM",
        "outputId": "77f21f55-9a18-43cb-c2b3-a1631f2c64c2"
      },
      "source": [
        "train_set.info()"
      ],
      "execution_count": null,
      "outputs": [
        {
          "output_type": "stream",
          "text": [
            "<class 'pandas.core.frame.DataFrame'>\n",
            "Int64Index: 116368 entries, 111548 to 121958\n",
            "Data columns (total 23 columns):\n",
            " #   Column         Non-Null Count   Dtype  \n",
            "---  ------         --------------   -----  \n",
            " 0   Date           116368 non-null  object \n",
            " 1   Location       116368 non-null  object \n",
            " 2   MinTemp        115190 non-null  float64\n",
            " 3   MaxTemp        115370 non-null  float64\n",
            " 4   Rainfall       113764 non-null  float64\n",
            " 5   Evaporation    66039 non-null   float64\n",
            " 6   Sunshine       60426 non-null   float64\n",
            " 7   WindGustDir    108118 non-null  object \n",
            " 8   WindGustSpeed  108166 non-null  float64\n",
            " 9   WindDir9am     107939 non-null  object \n",
            " 10  WindDir3pm     112971 non-null  object \n",
            " 11  WindSpeed9am   114960 non-null  float64\n",
            " 12  WindSpeed3pm   113911 non-null  float64\n",
            " 13  Humidity9am    114251 non-null  float64\n",
            " 14  Humidity3pm    112752 non-null  float64\n",
            " 15  Pressure9am    104307 non-null  float64\n",
            " 16  Pressure3pm    104326 non-null  float64\n",
            " 17  Cloud9am       71611 non-null   float64\n",
            " 18  Cloud3pm       68820 non-null   float64\n",
            " 19  Temp9am        114963 non-null  float64\n",
            " 20  Temp3pm        113471 non-null  float64\n",
            " 21  RainToday      113764 non-null  object \n",
            " 22  RainTomorrow   113761 non-null  object \n",
            "dtypes: float64(16), object(7)\n",
            "memory usage: 21.3+ MB\n"
          ],
          "name": "stdout"
        }
      ]
    },
    {
      "cell_type": "code",
      "metadata": {
        "id": "6JSJF5yXDNR7"
      },
      "source": [
        "corr_matrix = dataset.corr()"
      ],
      "execution_count": null,
      "outputs": []
    },
    {
      "cell_type": "code",
      "metadata": {
        "colab": {
          "base_uri": "https://localhost:8080/",
          "height": 571
        },
        "id": "LC5vC0fVDPt3",
        "outputId": "6e6640b8-e790-4c98-a6a8-e435a7b2e0ae"
      },
      "source": [
        "corr_matrix"
      ],
      "execution_count": null,
      "outputs": [
        {
          "output_type": "execute_result",
          "data": {
            "text/html": [
              "<div>\n",
              "<style scoped>\n",
              "    .dataframe tbody tr th:only-of-type {\n",
              "        vertical-align: middle;\n",
              "    }\n",
              "\n",
              "    .dataframe tbody tr th {\n",
              "        vertical-align: top;\n",
              "    }\n",
              "\n",
              "    .dataframe thead th {\n",
              "        text-align: right;\n",
              "    }\n",
              "</style>\n",
              "<table border=\"1\" class=\"dataframe\">\n",
              "  <thead>\n",
              "    <tr style=\"text-align: right;\">\n",
              "      <th></th>\n",
              "      <th>MinTemp</th>\n",
              "      <th>MaxTemp</th>\n",
              "      <th>Rainfall</th>\n",
              "      <th>Evaporation</th>\n",
              "      <th>Sunshine</th>\n",
              "      <th>WindGustSpeed</th>\n",
              "      <th>WindSpeed9am</th>\n",
              "      <th>WindSpeed3pm</th>\n",
              "      <th>Humidity9am</th>\n",
              "      <th>Humidity3pm</th>\n",
              "      <th>Pressure9am</th>\n",
              "      <th>Pressure3pm</th>\n",
              "      <th>Cloud9am</th>\n",
              "      <th>Cloud3pm</th>\n",
              "      <th>Temp9am</th>\n",
              "      <th>Temp3pm</th>\n",
              "    </tr>\n",
              "  </thead>\n",
              "  <tbody>\n",
              "    <tr>\n",
              "      <th>MinTemp</th>\n",
              "      <td>1.000000</td>\n",
              "      <td>0.736555</td>\n",
              "      <td>0.103938</td>\n",
              "      <td>0.466993</td>\n",
              "      <td>0.072586</td>\n",
              "      <td>0.177415</td>\n",
              "      <td>0.175064</td>\n",
              "      <td>0.175173</td>\n",
              "      <td>-0.232899</td>\n",
              "      <td>0.006089</td>\n",
              "      <td>-0.450970</td>\n",
              "      <td>-0.461292</td>\n",
              "      <td>0.078754</td>\n",
              "      <td>0.021605</td>\n",
              "      <td>0.901821</td>\n",
              "      <td>0.708906</td>\n",
              "    </tr>\n",
              "    <tr>\n",
              "      <th>MaxTemp</th>\n",
              "      <td>0.736555</td>\n",
              "      <td>1.000000</td>\n",
              "      <td>-0.074992</td>\n",
              "      <td>0.587932</td>\n",
              "      <td>0.470156</td>\n",
              "      <td>0.067615</td>\n",
              "      <td>0.014450</td>\n",
              "      <td>0.050300</td>\n",
              "      <td>-0.504110</td>\n",
              "      <td>-0.508855</td>\n",
              "      <td>-0.332061</td>\n",
              "      <td>-0.427167</td>\n",
              "      <td>-0.289370</td>\n",
              "      <td>-0.277921</td>\n",
              "      <td>0.887210</td>\n",
              "      <td>0.984503</td>\n",
              "    </tr>\n",
              "    <tr>\n",
              "      <th>Rainfall</th>\n",
              "      <td>0.103938</td>\n",
              "      <td>-0.074992</td>\n",
              "      <td>1.000000</td>\n",
              "      <td>-0.064351</td>\n",
              "      <td>-0.227549</td>\n",
              "      <td>0.133659</td>\n",
              "      <td>0.087338</td>\n",
              "      <td>0.057887</td>\n",
              "      <td>0.224405</td>\n",
              "      <td>0.255755</td>\n",
              "      <td>-0.168154</td>\n",
              "      <td>-0.126534</td>\n",
              "      <td>0.198528</td>\n",
              "      <td>0.172403</td>\n",
              "      <td>0.011192</td>\n",
              "      <td>-0.079657</td>\n",
              "    </tr>\n",
              "    <tr>\n",
              "      <th>Evaporation</th>\n",
              "      <td>0.466993</td>\n",
              "      <td>0.587932</td>\n",
              "      <td>-0.064351</td>\n",
              "      <td>1.000000</td>\n",
              "      <td>0.365602</td>\n",
              "      <td>0.203021</td>\n",
              "      <td>0.193084</td>\n",
              "      <td>0.129400</td>\n",
              "      <td>-0.504092</td>\n",
              "      <td>-0.390243</td>\n",
              "      <td>-0.270362</td>\n",
              "      <td>-0.293581</td>\n",
              "      <td>-0.183793</td>\n",
              "      <td>-0.182618</td>\n",
              "      <td>0.545115</td>\n",
              "      <td>0.572893</td>\n",
              "    </tr>\n",
              "    <tr>\n",
              "      <th>Sunshine</th>\n",
              "      <td>0.072586</td>\n",
              "      <td>0.470156</td>\n",
              "      <td>-0.227549</td>\n",
              "      <td>0.365602</td>\n",
              "      <td>1.000000</td>\n",
              "      <td>-0.034750</td>\n",
              "      <td>0.005499</td>\n",
              "      <td>0.053834</td>\n",
              "      <td>-0.490819</td>\n",
              "      <td>-0.629130</td>\n",
              "      <td>0.041970</td>\n",
              "      <td>-0.019719</td>\n",
              "      <td>-0.675323</td>\n",
              "      <td>-0.703930</td>\n",
              "      <td>0.291188</td>\n",
              "      <td>0.490501</td>\n",
              "    </tr>\n",
              "    <tr>\n",
              "      <th>WindGustSpeed</th>\n",
              "      <td>0.177415</td>\n",
              "      <td>0.067615</td>\n",
              "      <td>0.133659</td>\n",
              "      <td>0.203021</td>\n",
              "      <td>-0.034750</td>\n",
              "      <td>1.000000</td>\n",
              "      <td>0.605303</td>\n",
              "      <td>0.686307</td>\n",
              "      <td>-0.215070</td>\n",
              "      <td>-0.026327</td>\n",
              "      <td>-0.458744</td>\n",
              "      <td>-0.413749</td>\n",
              "      <td>0.071736</td>\n",
              "      <td>0.109168</td>\n",
              "      <td>0.150150</td>\n",
              "      <td>0.032748</td>\n",
              "    </tr>\n",
              "    <tr>\n",
              "      <th>WindSpeed9am</th>\n",
              "      <td>0.175064</td>\n",
              "      <td>0.014450</td>\n",
              "      <td>0.087338</td>\n",
              "      <td>0.193084</td>\n",
              "      <td>0.005499</td>\n",
              "      <td>0.605303</td>\n",
              "      <td>1.000000</td>\n",
              "      <td>0.519547</td>\n",
              "      <td>-0.270858</td>\n",
              "      <td>-0.031614</td>\n",
              "      <td>-0.228743</td>\n",
              "      <td>-0.175817</td>\n",
              "      <td>0.025112</td>\n",
              "      <td>0.054639</td>\n",
              "      <td>0.128545</td>\n",
              "      <td>0.004569</td>\n",
              "    </tr>\n",
              "    <tr>\n",
              "      <th>WindSpeed3pm</th>\n",
              "      <td>0.175173</td>\n",
              "      <td>0.050300</td>\n",
              "      <td>0.057887</td>\n",
              "      <td>0.129400</td>\n",
              "      <td>0.053834</td>\n",
              "      <td>0.686307</td>\n",
              "      <td>0.519547</td>\n",
              "      <td>1.000000</td>\n",
              "      <td>-0.145525</td>\n",
              "      <td>0.016432</td>\n",
              "      <td>-0.296351</td>\n",
              "      <td>-0.255439</td>\n",
              "      <td>0.053337</td>\n",
              "      <td>0.025396</td>\n",
              "      <td>0.163030</td>\n",
              "      <td>0.027778</td>\n",
              "    </tr>\n",
              "    <tr>\n",
              "      <th>Humidity9am</th>\n",
              "      <td>-0.232899</td>\n",
              "      <td>-0.504110</td>\n",
              "      <td>0.224405</td>\n",
              "      <td>-0.504092</td>\n",
              "      <td>-0.490819</td>\n",
              "      <td>-0.215070</td>\n",
              "      <td>-0.270858</td>\n",
              "      <td>-0.145525</td>\n",
              "      <td>1.000000</td>\n",
              "      <td>0.666949</td>\n",
              "      <td>0.139442</td>\n",
              "      <td>0.186858</td>\n",
              "      <td>0.452297</td>\n",
              "      <td>0.357326</td>\n",
              "      <td>-0.471354</td>\n",
              "      <td>-0.498399</td>\n",
              "    </tr>\n",
              "    <tr>\n",
              "      <th>Humidity3pm</th>\n",
              "      <td>0.006089</td>\n",
              "      <td>-0.508855</td>\n",
              "      <td>0.255755</td>\n",
              "      <td>-0.390243</td>\n",
              "      <td>-0.629130</td>\n",
              "      <td>-0.026327</td>\n",
              "      <td>-0.031614</td>\n",
              "      <td>0.016432</td>\n",
              "      <td>0.666949</td>\n",
              "      <td>1.000000</td>\n",
              "      <td>-0.027544</td>\n",
              "      <td>0.051997</td>\n",
              "      <td>0.517120</td>\n",
              "      <td>0.523120</td>\n",
              "      <td>-0.221019</td>\n",
              "      <td>-0.557841</td>\n",
              "    </tr>\n",
              "    <tr>\n",
              "      <th>Pressure9am</th>\n",
              "      <td>-0.450970</td>\n",
              "      <td>-0.332061</td>\n",
              "      <td>-0.168154</td>\n",
              "      <td>-0.270362</td>\n",
              "      <td>0.041970</td>\n",
              "      <td>-0.458744</td>\n",
              "      <td>-0.228743</td>\n",
              "      <td>-0.296351</td>\n",
              "      <td>0.139442</td>\n",
              "      <td>-0.027544</td>\n",
              "      <td>1.000000</td>\n",
              "      <td>0.961326</td>\n",
              "      <td>-0.129796</td>\n",
              "      <td>-0.147861</td>\n",
              "      <td>-0.422556</td>\n",
              "      <td>-0.286770</td>\n",
              "    </tr>\n",
              "    <tr>\n",
              "      <th>Pressure3pm</th>\n",
              "      <td>-0.461292</td>\n",
              "      <td>-0.427167</td>\n",
              "      <td>-0.126534</td>\n",
              "      <td>-0.293581</td>\n",
              "      <td>-0.019719</td>\n",
              "      <td>-0.413749</td>\n",
              "      <td>-0.175817</td>\n",
              "      <td>-0.255439</td>\n",
              "      <td>0.186858</td>\n",
              "      <td>0.051997</td>\n",
              "      <td>0.961326</td>\n",
              "      <td>1.000000</td>\n",
              "      <td>-0.060772</td>\n",
              "      <td>-0.084778</td>\n",
              "      <td>-0.470187</td>\n",
              "      <td>-0.389548</td>\n",
              "    </tr>\n",
              "    <tr>\n",
              "      <th>Cloud9am</th>\n",
              "      <td>0.078754</td>\n",
              "      <td>-0.289370</td>\n",
              "      <td>0.198528</td>\n",
              "      <td>-0.183793</td>\n",
              "      <td>-0.675323</td>\n",
              "      <td>0.071736</td>\n",
              "      <td>0.025112</td>\n",
              "      <td>0.053337</td>\n",
              "      <td>0.452297</td>\n",
              "      <td>0.517120</td>\n",
              "      <td>-0.129796</td>\n",
              "      <td>-0.060772</td>\n",
              "      <td>1.000000</td>\n",
              "      <td>0.603564</td>\n",
              "      <td>-0.136959</td>\n",
              "      <td>-0.302060</td>\n",
              "    </tr>\n",
              "    <tr>\n",
              "      <th>Cloud3pm</th>\n",
              "      <td>0.021605</td>\n",
              "      <td>-0.277921</td>\n",
              "      <td>0.172403</td>\n",
              "      <td>-0.182618</td>\n",
              "      <td>-0.703930</td>\n",
              "      <td>0.109168</td>\n",
              "      <td>0.054639</td>\n",
              "      <td>0.025396</td>\n",
              "      <td>0.357326</td>\n",
              "      <td>0.523120</td>\n",
              "      <td>-0.147861</td>\n",
              "      <td>-0.084778</td>\n",
              "      <td>0.603564</td>\n",
              "      <td>1.000000</td>\n",
              "      <td>-0.126659</td>\n",
              "      <td>-0.317420</td>\n",
              "    </tr>\n",
              "    <tr>\n",
              "      <th>Temp9am</th>\n",
              "      <td>0.901821</td>\n",
              "      <td>0.887210</td>\n",
              "      <td>0.011192</td>\n",
              "      <td>0.545115</td>\n",
              "      <td>0.291188</td>\n",
              "      <td>0.150150</td>\n",
              "      <td>0.128545</td>\n",
              "      <td>0.163030</td>\n",
              "      <td>-0.471354</td>\n",
              "      <td>-0.221019</td>\n",
              "      <td>-0.422556</td>\n",
              "      <td>-0.470187</td>\n",
              "      <td>-0.136959</td>\n",
              "      <td>-0.126659</td>\n",
              "      <td>1.000000</td>\n",
              "      <td>0.860591</td>\n",
              "    </tr>\n",
              "    <tr>\n",
              "      <th>Temp3pm</th>\n",
              "      <td>0.708906</td>\n",
              "      <td>0.984503</td>\n",
              "      <td>-0.079657</td>\n",
              "      <td>0.572893</td>\n",
              "      <td>0.490501</td>\n",
              "      <td>0.032748</td>\n",
              "      <td>0.004569</td>\n",
              "      <td>0.027778</td>\n",
              "      <td>-0.498399</td>\n",
              "      <td>-0.557841</td>\n",
              "      <td>-0.286770</td>\n",
              "      <td>-0.389548</td>\n",
              "      <td>-0.302060</td>\n",
              "      <td>-0.317420</td>\n",
              "      <td>0.860591</td>\n",
              "      <td>1.000000</td>\n",
              "    </tr>\n",
              "  </tbody>\n",
              "</table>\n",
              "</div>"
            ],
            "text/plain": [
              "                MinTemp   MaxTemp  Rainfall  ...  Cloud3pm   Temp9am   Temp3pm\n",
              "MinTemp        1.000000  0.736555  0.103938  ...  0.021605  0.901821  0.708906\n",
              "MaxTemp        0.736555  1.000000 -0.074992  ... -0.277921  0.887210  0.984503\n",
              "Rainfall       0.103938 -0.074992  1.000000  ...  0.172403  0.011192 -0.079657\n",
              "Evaporation    0.466993  0.587932 -0.064351  ... -0.182618  0.545115  0.572893\n",
              "Sunshine       0.072586  0.470156 -0.227549  ... -0.703930  0.291188  0.490501\n",
              "WindGustSpeed  0.177415  0.067615  0.133659  ...  0.109168  0.150150  0.032748\n",
              "WindSpeed9am   0.175064  0.014450  0.087338  ...  0.054639  0.128545  0.004569\n",
              "WindSpeed3pm   0.175173  0.050300  0.057887  ...  0.025396  0.163030  0.027778\n",
              "Humidity9am   -0.232899 -0.504110  0.224405  ...  0.357326 -0.471354 -0.498399\n",
              "Humidity3pm    0.006089 -0.508855  0.255755  ...  0.523120 -0.221019 -0.557841\n",
              "Pressure9am   -0.450970 -0.332061 -0.168154  ... -0.147861 -0.422556 -0.286770\n",
              "Pressure3pm   -0.461292 -0.427167 -0.126534  ... -0.084778 -0.470187 -0.389548\n",
              "Cloud9am       0.078754 -0.289370  0.198528  ...  0.603564 -0.136959 -0.302060\n",
              "Cloud3pm       0.021605 -0.277921  0.172403  ...  1.000000 -0.126659 -0.317420\n",
              "Temp9am        0.901821  0.887210  0.011192  ... -0.126659  1.000000  0.860591\n",
              "Temp3pm        0.708906  0.984503 -0.079657  ... -0.317420  0.860591  1.000000\n",
              "\n",
              "[16 rows x 16 columns]"
            ]
          },
          "metadata": {
            "tags": []
          },
          "execution_count": 15
        }
      ]
    },
    {
      "cell_type": "code",
      "metadata": {
        "id": "thWLjo-GDdhe"
      },
      "source": [
        "#corr_matrix['RainTomorrow'].sort_values(ascending=False)"
      ],
      "execution_count": null,
      "outputs": []
    },
    {
      "cell_type": "code",
      "metadata": {
        "id": "BPgpPShoBLwn"
      },
      "source": [
        "train_to_proc = train_set.copy()"
      ],
      "execution_count": null,
      "outputs": []
    },
    {
      "cell_type": "markdown",
      "metadata": {
        "id": "nOa4T69mH1HU"
      },
      "source": [
        "Dealing with NAN values"
      ]
    },
    {
      "cell_type": "code",
      "metadata": {
        "colab": {
          "base_uri": "https://localhost:8080/"
        },
        "id": "XbEtlgJvQf2a",
        "outputId": "01a3f507-4e5a-4bd1-8a37-30611f13f320"
      },
      "source": [
        "nan_columns = [(column, train_to_proc[column].isnull().sum(), round((train_to_proc[column].isnull().sum())/(len(train_to_proc[column])), 2)*100) for column in train_to_proc if train_to_proc[column].isnull().sum()]\n",
        "nan_columns"
      ],
      "execution_count": null,
      "outputs": [
        {
          "output_type": "execute_result",
          "data": {
            "text/plain": [
              "[('MinTemp', 1178, 1.0),\n",
              " ('MaxTemp', 998, 1.0),\n",
              " ('Rainfall', 2604, 2.0),\n",
              " ('Evaporation', 50329, 43.0),\n",
              " ('Sunshine', 55942, 48.0),\n",
              " ('WindGustDir', 8250, 7.000000000000001),\n",
              " ('WindGustSpeed', 8202, 7.000000000000001),\n",
              " ('WindDir9am', 8429, 7.000000000000001),\n",
              " ('WindDir3pm', 3397, 3.0),\n",
              " ('WindSpeed9am', 1408, 1.0),\n",
              " ('WindSpeed3pm', 2457, 2.0),\n",
              " ('Humidity9am', 2117, 2.0),\n",
              " ('Humidity3pm', 3616, 3.0),\n",
              " ('Pressure9am', 12061, 10.0),\n",
              " ('Pressure3pm', 12042, 10.0),\n",
              " ('Cloud9am', 44757, 38.0),\n",
              " ('Cloud3pm', 47548, 41.0),\n",
              " ('Temp9am', 1405, 1.0),\n",
              " ('Temp3pm', 2897, 2.0),\n",
              " ('RainToday', 2604, 2.0),\n",
              " ('RainTomorrow', 2607, 2.0)]"
            ]
          },
          "metadata": {
            "tags": []
          },
          "execution_count": 18
        }
      ]
    },
    {
      "cell_type": "code",
      "metadata": {
        "id": "Q4wuXOUQ-e7_"
      },
      "source": [
        "imputer = SimpleImputer(strategy='median')\n",
        "def handle_NAN(dataset):\n",
        "  \"\"\"\n",
        "  Deal with NAN values \n",
        "  \"\"\"\n",
        "  dataset = dataset.drop('Cloud9am', axis=1)\n",
        "  dataset = dataset.drop('Cloud3pm', axis=1)\n",
        "  dataset = dataset.drop('Sunshine', axis=1)\n",
        "  dataset = dataset.drop('Evaporation', axis=1)\n",
        "  dataset = dataset.dropna()\n",
        "  #dataset_imp = imputer.fit_transform(dataset)\n",
        "\n",
        "  return dataset"
      ],
      "execution_count": null,
      "outputs": []
    },
    {
      "cell_type": "code",
      "metadata": {
        "colab": {
          "base_uri": "https://localhost:8080/"
        },
        "id": "J6f-DNcqBGBA",
        "outputId": "536730eb-26cb-41ee-f24d-fdf7a8aa216f"
      },
      "source": [
        "# Run this cell to remove all NAN values\n",
        "train_to_proc = handle_NAN(train_to_proc)\n",
        "train_to_proc.info()"
      ],
      "execution_count": null,
      "outputs": [
        {
          "output_type": "stream",
          "text": [
            "<class 'pandas.core.frame.DataFrame'>\n",
            "Int64Index: 90286 entries, 142528 to 121958\n",
            "Data columns (total 19 columns):\n",
            " #   Column         Non-Null Count  Dtype  \n",
            "---  ------         --------------  -----  \n",
            " 0   Date           90286 non-null  object \n",
            " 1   Location       90286 non-null  object \n",
            " 2   MinTemp        90286 non-null  float64\n",
            " 3   MaxTemp        90286 non-null  float64\n",
            " 4   Rainfall       90286 non-null  float64\n",
            " 5   WindGustDir    90286 non-null  object \n",
            " 6   WindGustSpeed  90286 non-null  float64\n",
            " 7   WindDir9am     90286 non-null  object \n",
            " 8   WindDir3pm     90286 non-null  object \n",
            " 9   WindSpeed9am   90286 non-null  float64\n",
            " 10  WindSpeed3pm   90286 non-null  float64\n",
            " 11  Humidity9am    90286 non-null  float64\n",
            " 12  Humidity3pm    90286 non-null  float64\n",
            " 13  Pressure9am    90286 non-null  float64\n",
            " 14  Pressure3pm    90286 non-null  float64\n",
            " 15  Temp9am        90286 non-null  float64\n",
            " 16  Temp3pm        90286 non-null  float64\n",
            " 17  RainToday      90286 non-null  object \n",
            " 18  RainTomorrow   90286 non-null  object \n",
            "dtypes: float64(12), object(7)\n",
            "memory usage: 13.8+ MB\n"
          ],
          "name": "stdout"
        }
      ]
    },
    {
      "cell_type": "code",
      "metadata": {
        "id": "1HXJyXXOTtKd"
      },
      "source": [
        "#imputer = SimpleImputer(strategy='constant', fill_value=0, verbose=2)\n",
        "#imputer.fit(train_to_proc)\n",
        "#train_to_proc_imputed = imputer.transform(train_to_proc)\n",
        "#train_to_proc_imputed = pd.DataFrame(train_to_proc_imputed)\n",
        "#train_to_proc_imputed.info()"
      ],
      "execution_count": null,
      "outputs": []
    },
    {
      "cell_type": "code",
      "metadata": {
        "id": "7l1_sf3aQQV9"
      },
      "source": [
        "train_labels = train_to_proc.pop('RainTomorrow')"
      ],
      "execution_count": null,
      "outputs": []
    },
    {
      "cell_type": "code",
      "metadata": {
        "id": "l1nzfg3WKGJf"
      },
      "source": [
        "cat_columns = ['Date', 'Location', 'WindGustDir', 'WindDir9am', 'WindDir3pm', 'RainToday']"
      ],
      "execution_count": null,
      "outputs": []
    },
    {
      "cell_type": "code",
      "metadata": {
        "id": "E8UhM5JLKd5j"
      },
      "source": [
        "train_to_proc_cat = train_to_proc[cat_columns]\n",
        "train_to_proc_num = train_to_proc.drop(cat_columns, axis=1)"
      ],
      "execution_count": null,
      "outputs": []
    },
    {
      "cell_type": "code",
      "metadata": {
        "colab": {
          "base_uri": "https://localhost:8080/"
        },
        "id": "j-xAiMYfFIdk",
        "outputId": "b166e162-a15e-4811-8cd1-03e8e24f3825"
      },
      "source": [
        "train_to_proc_cat.head(), train_to_proc_num.head()"
      ],
      "execution_count": null,
      "outputs": [
        {
          "output_type": "execute_result",
          "data": {
            "text/plain": [
              "(              Date          Location  ... WindDir3pm RainToday\n",
              " 142528  2013-10-11         Katherine  ...         NW        No\n",
              " 65304   2012-02-18  MelbourneAirport  ...          S        No\n",
              " 40651   2012-02-18       Williamtown  ...        SSE        No\n",
              " 97487   2011-10-11          Adelaide  ...        SSW        No\n",
              " 103132  2010-08-03         Nuriootpa  ...          W        No\n",
              " \n",
              " [5 rows x 6 columns],\n",
              "         MinTemp  MaxTemp  Rainfall  ...  Pressure3pm  Temp9am  Temp3pm\n",
              " 142528     24.6     39.5       0.0  ...       1006.6     30.1     39.2\n",
              " 65304      14.7     26.6       0.2  ...       1015.4     17.3     24.5\n",
              " 40651      18.3     26.6       0.0  ...       1016.5     23.0     25.4\n",
              " 97487      11.4     19.3       0.6  ...       1017.1     14.4     18.3\n",
              " 103132      4.9     10.3       0.0  ...       1026.0      7.8      9.6\n",
              " \n",
              " [5 rows x 12 columns])"
            ]
          },
          "metadata": {
            "tags": []
          },
          "execution_count": 25
        }
      ]
    },
    {
      "cell_type": "code",
      "metadata": {
        "id": "a9SKzd83Giz3"
      },
      "source": [
        "full_pipeline = ColumnTransformer([\n",
        "                             ('std_scaler', StandardScaler(), list(train_to_proc_num)),\n",
        "                             ('cat_encod_train', OneHotEncoder(), cat_columns),\n",
        "])\n",
        "\n",
        "train_to_proc_prepared = full_pipeline.fit_transform(train_to_proc)"
      ],
      "execution_count": null,
      "outputs": []
    },
    {
      "cell_type": "code",
      "metadata": {
        "colab": {
          "base_uri": "https://localhost:8080/"
        },
        "id": "be0PGN39PFPm",
        "outputId": "5bf82414-9a79-498b-8936-4a2bcb214820"
      },
      "source": [
        "train_to_proc_prepared.toarray().shape"
      ],
      "execution_count": null,
      "outputs": [
        {
          "output_type": "execute_result",
          "data": {
            "text/plain": [
              "(90286, 3483)"
            ]
          },
          "metadata": {
            "tags": []
          },
          "execution_count": 27
        }
      ]
    },
    {
      "cell_type": "code",
      "metadata": {
        "id": "-sEtoO8IQiPw"
      },
      "source": [
        "cat_encoder_labels = LabelEncoder()\n",
        "train_labels_1hot = cat_encoder_labels.fit_transform(train_labels.values.reshape(-1))"
      ],
      "execution_count": null,
      "outputs": []
    },
    {
      "cell_type": "code",
      "metadata": {
        "colab": {
          "base_uri": "https://localhost:8080/"
        },
        "id": "OsNNTqsIRRCY",
        "outputId": "fe2313cc-a471-4eca-e5b5-4188d988869e"
      },
      "source": [
        "train_labels_1hot, train_labels_1hot.shape"
      ],
      "execution_count": null,
      "outputs": [
        {
          "output_type": "execute_result",
          "data": {
            "text/plain": [
              "(array([0, 0, 0, ..., 0, 0, 0]), (90286,))"
            ]
          },
          "metadata": {
            "tags": []
          },
          "execution_count": 29
        }
      ]
    },
    {
      "cell_type": "code",
      "metadata": {
        "colab": {
          "base_uri": "https://localhost:8080/"
        },
        "id": "g8hQqvDagiFL",
        "outputId": "b5de14fb-1d01-4804-c64b-c8af45322dae"
      },
      "source": [
        "train_labels_1hot.sum(), (train_labels_1hot==0).sum()"
      ],
      "execution_count": null,
      "outputs": [
        {
          "output_type": "execute_result",
          "data": {
            "text/plain": [
              "(19993, 70293)"
            ]
          },
          "metadata": {
            "tags": []
          },
          "execution_count": 34
        }
      ]
    },
    {
      "cell_type": "code",
      "metadata": {
        "id": "C0drc5VSbeQy"
      },
      "source": [
        "scores = {}\n",
        "runtime = {}\n",
        "models = []"
      ],
      "execution_count": null,
      "outputs": []
    },
    {
      "cell_type": "code",
      "metadata": {
        "id": "I7pKCCgOawbX"
      },
      "source": [
        "def evaluate_model(model):\n",
        "  t0 = time.time()\n",
        "  scores[model] = np.mean(cross_val_score(model, train_to_proc_prepared, train_labels_1hot, verbose=1, n_jobs=-1, scoring='f1'))\n",
        "  t1 = time.time() - t0\n",
        "  runtime[model] = t1"
      ],
      "execution_count": null,
      "outputs": []
    },
    {
      "cell_type": "code",
      "metadata": {
        "colab": {
          "base_uri": "https://localhost:8080/"
        },
        "id": "IsvO_tutfaO2",
        "outputId": "a0dec894-8fa2-4572-b9f4-7d6c265d35a0"
      },
      "source": [
        "lr = LogisticRegression(solver='liblinear')\n",
        "evaluate_model(lr)"
      ],
      "execution_count": null,
      "outputs": [
        {
          "output_type": "stream",
          "text": [
            "[Parallel(n_jobs=-1)]: Using backend LokyBackend with 2 concurrent workers.\n",
            "[Parallel(n_jobs=-1)]: Done   5 out of   5 | elapsed:    6.9s finished\n"
          ],
          "name": "stderr"
        }
      ]
    },
    {
      "cell_type": "code",
      "metadata": {
        "colab": {
          "base_uri": "https://localhost:8080/"
        },
        "id": "HXmjtOCveA61",
        "outputId": "b88d7205-f460-439e-a7de-7d2ec6ecaa5c"
      },
      "source": [
        "svm = SVC()\n",
        "evaluate_model(svm)"
      ],
      "execution_count": null,
      "outputs": [
        {
          "output_type": "stream",
          "text": [
            "[Parallel(n_jobs=-1)]: Using backend LokyBackend with 2 concurrent workers.\n",
            "[Parallel(n_jobs=-1)]: Done   5 out of   5 | elapsed: 23.3min finished\n"
          ],
          "name": "stderr"
        }
      ]
    },
    {
      "cell_type": "code",
      "metadata": {
        "colab": {
          "base_uri": "https://localhost:8080/"
        },
        "id": "2_Ish2N9fNWP",
        "outputId": "74817427-6374-413b-afde-d5efed64f072"
      },
      "source": [
        "print(scores, runtime, models, sep='\\n')"
      ],
      "execution_count": null,
      "outputs": [
        {
          "output_type": "stream",
          "text": [
            "{SVC(C=1.0, break_ties=False, cache_size=200, class_weight=None, coef0=0.0,\n",
            "    decision_function_shape='ovr', degree=3, gamma='scale', kernel='rbf',\n",
            "    max_iter=-1, probability=False, random_state=None, shrinking=True,\n",
            "    tol=0.001, verbose=False): 0.6409344343352895, LogisticRegression(C=1.0, class_weight=None, dual=False, fit_intercept=True,\n",
            "                   intercept_scaling=1, l1_ratio=None, max_iter=100,\n",
            "                   multi_class='auto', n_jobs=None, penalty='l2',\n",
            "                   random_state=None, solver='liblinear', tol=0.0001, verbose=0,\n",
            "                   warm_start=False): 0.6327079059955968}\n",
            "{SVC(C=1.0, break_ties=False, cache_size=200, class_weight=None, coef0=0.0,\n",
            "    decision_function_shape='ovr', degree=3, gamma='scale', kernel='rbf',\n",
            "    max_iter=-1, probability=False, random_state=None, shrinking=True,\n",
            "    tol=0.001, verbose=False): 1397.5620090961456, LogisticRegression(C=1.0, class_weight=None, dual=False, fit_intercept=True,\n",
            "                   intercept_scaling=1, l1_ratio=None, max_iter=100,\n",
            "                   multi_class='auto', n_jobs=None, penalty='l2',\n",
            "                   random_state=None, solver='liblinear', tol=0.0001, verbose=0,\n",
            "                   warm_start=False): 6.986371994018555}\n",
            "[]\n"
          ],
          "name": "stdout"
        }
      ]
    },
    {
      "cell_type": "code",
      "metadata": {
        "id": "P-UO_yKqRnfU"
      },
      "source": [
        "model = keras.Sequential([\n",
        "                          keras.layers.Dense(units=20, input_shape=(3483,), activation='relu'),\n",
        "                          keras.layers.Dense(units=40, activation='relu'),\n",
        "                          keras.layers.Dense(units=1, activation='sigmoid')\n",
        "])"
      ],
      "execution_count": null,
      "outputs": []
    },
    {
      "cell_type": "code",
      "metadata": {
        "colab": {
          "base_uri": "https://localhost:8080/"
        },
        "id": "hzYPAcVNU5lR",
        "outputId": "826f9e47-17e8-4771-b711-ba240c203512"
      },
      "source": [
        "model.summary()"
      ],
      "execution_count": null,
      "outputs": [
        {
          "output_type": "stream",
          "text": [
            "Model: \"sequential_1\"\n",
            "_________________________________________________________________\n",
            "Layer (type)                 Output Shape              Param #   \n",
            "=================================================================\n",
            "dense_3 (Dense)              (None, 20)                69680     \n",
            "_________________________________________________________________\n",
            "dense_4 (Dense)              (None, 40)                840       \n",
            "_________________________________________________________________\n",
            "dense_5 (Dense)              (None, 1)                 41        \n",
            "=================================================================\n",
            "Total params: 70,561\n",
            "Trainable params: 70,561\n",
            "Non-trainable params: 0\n",
            "_________________________________________________________________\n"
          ],
          "name": "stdout"
        }
      ]
    },
    {
      "cell_type": "code",
      "metadata": {
        "id": "HGhBu55wVKBB"
      },
      "source": [
        "model.compile(\n",
        "    optimizer=keras.optimizers.Adadelta(),\n",
        "    loss='binary_crossentropy',\n",
        "    metrics=['accuracy']\n",
        ")"
      ],
      "execution_count": null,
      "outputs": []
    },
    {
      "cell_type": "code",
      "metadata": {
        "colab": {
          "base_uri": "https://localhost:8080/"
        },
        "id": "PPr_vtqYViMs",
        "outputId": "2df3996d-30f6-4aa2-f7e1-ce70b0524bdb"
      },
      "source": [
        "history = model.fit(x=train_to_proc_prepared.toarray(), y=train_labels_1hot, batch_size=20, epochs=100, verbose=2, validation_split=0.2)"
      ],
      "execution_count": null,
      "outputs": [
        {
          "output_type": "stream",
          "text": [
            "Epoch 1/100\n",
            "3612/3612 - 8s - loss: 0.6785 - accuracy: 0.7322 - val_loss: 0.6670 - val_accuracy: 0.7779\n",
            "Epoch 2/100\n",
            "3612/3612 - 7s - loss: 0.6543 - accuracy: 0.7785 - val_loss: 0.6413 - val_accuracy: 0.7792\n",
            "Epoch 3/100\n",
            "3612/3612 - 7s - loss: 0.6276 - accuracy: 0.7785 - val_loss: 0.6135 - val_accuracy: 0.7791\n",
            "Epoch 4/100\n",
            "3612/3612 - 7s - loss: 0.5992 - accuracy: 0.7785 - val_loss: 0.5847 - val_accuracy: 0.7791\n",
            "Epoch 5/100\n",
            "3612/3612 - 7s - loss: 0.5704 - accuracy: 0.7785 - val_loss: 0.5562 - val_accuracy: 0.7791\n",
            "Epoch 6/100\n",
            "3612/3612 - 7s - loss: 0.5424 - accuracy: 0.7785 - val_loss: 0.5291 - val_accuracy: 0.7792\n",
            "Epoch 7/100\n",
            "3612/3612 - 7s - loss: 0.5168 - accuracy: 0.7785 - val_loss: 0.5052 - val_accuracy: 0.7793\n",
            "Epoch 8/100\n",
            "3612/3612 - 7s - loss: 0.4944 - accuracy: 0.7786 - val_loss: 0.4849 - val_accuracy: 0.7793\n",
            "Epoch 9/100\n",
            "3612/3612 - 7s - loss: 0.4758 - accuracy: 0.7788 - val_loss: 0.4683 - val_accuracy: 0.7796\n",
            "Epoch 10/100\n",
            "3612/3612 - 7s - loss: 0.4607 - accuracy: 0.7791 - val_loss: 0.4549 - val_accuracy: 0.7803\n",
            "Epoch 11/100\n",
            "3612/3612 - 7s - loss: 0.4484 - accuracy: 0.7797 - val_loss: 0.4441 - val_accuracy: 0.7807\n",
            "Epoch 12/100\n",
            "3612/3612 - 7s - loss: 0.4386 - accuracy: 0.7803 - val_loss: 0.4355 - val_accuracy: 0.7819\n",
            "Epoch 13/100\n",
            "3612/3612 - 7s - loss: 0.4307 - accuracy: 0.7814 - val_loss: 0.4286 - val_accuracy: 0.7827\n",
            "Epoch 14/100\n",
            "3612/3612 - 7s - loss: 0.4243 - accuracy: 0.7837 - val_loss: 0.4229 - val_accuracy: 0.7861\n",
            "Epoch 15/100\n",
            "3612/3612 - 7s - loss: 0.4188 - accuracy: 0.7881 - val_loss: 0.4181 - val_accuracy: 0.7915\n",
            "Epoch 16/100\n",
            "3612/3612 - 7s - loss: 0.4141 - accuracy: 0.7940 - val_loss: 0.4139 - val_accuracy: 0.7976\n",
            "Epoch 17/100\n",
            "3612/3612 - 7s - loss: 0.4100 - accuracy: 0.8012 - val_loss: 0.4101 - val_accuracy: 0.8053\n",
            "Epoch 18/100\n",
            "3612/3612 - 7s - loss: 0.4063 - accuracy: 0.8079 - val_loss: 0.4067 - val_accuracy: 0.8112\n",
            "Epoch 19/100\n",
            "3612/3612 - 7s - loss: 0.4029 - accuracy: 0.8135 - val_loss: 0.4037 - val_accuracy: 0.8171\n",
            "Epoch 20/100\n",
            "3612/3612 - 7s - loss: 0.3999 - accuracy: 0.8182 - val_loss: 0.4009 - val_accuracy: 0.8225\n",
            "Epoch 21/100\n",
            "3612/3612 - 7s - loss: 0.3971 - accuracy: 0.8221 - val_loss: 0.3984 - val_accuracy: 0.8252\n",
            "Epoch 22/100\n",
            "3612/3612 - 7s - loss: 0.3945 - accuracy: 0.8258 - val_loss: 0.3960 - val_accuracy: 0.8285\n",
            "Epoch 23/100\n",
            "3612/3612 - 7s - loss: 0.3921 - accuracy: 0.8285 - val_loss: 0.3938 - val_accuracy: 0.8300\n",
            "Epoch 24/100\n",
            "3612/3612 - 7s - loss: 0.3899 - accuracy: 0.8309 - val_loss: 0.3918 - val_accuracy: 0.8327\n",
            "Epoch 25/100\n",
            "3612/3612 - 7s - loss: 0.3879 - accuracy: 0.8325 - val_loss: 0.3899 - val_accuracy: 0.8335\n",
            "Epoch 26/100\n",
            "3612/3612 - 7s - loss: 0.3860 - accuracy: 0.8337 - val_loss: 0.3882 - val_accuracy: 0.8355\n",
            "Epoch 27/100\n",
            "3612/3612 - 7s - loss: 0.3843 - accuracy: 0.8354 - val_loss: 0.3866 - val_accuracy: 0.8359\n",
            "Epoch 28/100\n",
            "3612/3612 - 7s - loss: 0.3827 - accuracy: 0.8364 - val_loss: 0.3851 - val_accuracy: 0.8369\n",
            "Epoch 29/100\n",
            "3612/3612 - 7s - loss: 0.3812 - accuracy: 0.8375 - val_loss: 0.3837 - val_accuracy: 0.8369\n",
            "Epoch 30/100\n",
            "3612/3612 - 7s - loss: 0.3798 - accuracy: 0.8384 - val_loss: 0.3824 - val_accuracy: 0.8381\n",
            "Epoch 31/100\n",
            "3612/3612 - 7s - loss: 0.3784 - accuracy: 0.8389 - val_loss: 0.3812 - val_accuracy: 0.8385\n",
            "Epoch 32/100\n",
            "3612/3612 - 7s - loss: 0.3772 - accuracy: 0.8393 - val_loss: 0.3801 - val_accuracy: 0.8396\n",
            "Epoch 33/100\n",
            "3612/3612 - 7s - loss: 0.3760 - accuracy: 0.8397 - val_loss: 0.3790 - val_accuracy: 0.8401\n",
            "Epoch 34/100\n",
            "3612/3612 - 7s - loss: 0.3749 - accuracy: 0.8402 - val_loss: 0.3780 - val_accuracy: 0.8406\n",
            "Epoch 35/100\n",
            "3612/3612 - 7s - loss: 0.3739 - accuracy: 0.8409 - val_loss: 0.3770 - val_accuracy: 0.8412\n",
            "Epoch 36/100\n",
            "3612/3612 - 7s - loss: 0.3729 - accuracy: 0.8408 - val_loss: 0.3761 - val_accuracy: 0.8421\n",
            "Epoch 37/100\n",
            "3612/3612 - 7s - loss: 0.3720 - accuracy: 0.8412 - val_loss: 0.3752 - val_accuracy: 0.8432\n",
            "Epoch 38/100\n",
            "3612/3612 - 7s - loss: 0.3711 - accuracy: 0.8416 - val_loss: 0.3744 - val_accuracy: 0.8438\n",
            "Epoch 39/100\n",
            "3612/3612 - 7s - loss: 0.3703 - accuracy: 0.8421 - val_loss: 0.3736 - val_accuracy: 0.8436\n",
            "Epoch 40/100\n",
            "3612/3612 - 7s - loss: 0.3695 - accuracy: 0.8425 - val_loss: 0.3729 - val_accuracy: 0.8434\n",
            "Epoch 41/100\n",
            "3612/3612 - 7s - loss: 0.3687 - accuracy: 0.8427 - val_loss: 0.3721 - val_accuracy: 0.8439\n",
            "Epoch 42/100\n",
            "3612/3612 - 7s - loss: 0.3679 - accuracy: 0.8431 - val_loss: 0.3714 - val_accuracy: 0.8440\n",
            "Epoch 43/100\n",
            "3612/3612 - 7s - loss: 0.3672 - accuracy: 0.8434 - val_loss: 0.3707 - val_accuracy: 0.8444\n",
            "Epoch 44/100\n",
            "3612/3612 - 7s - loss: 0.3665 - accuracy: 0.8437 - val_loss: 0.3701 - val_accuracy: 0.8447\n",
            "Epoch 45/100\n",
            "3612/3612 - 7s - loss: 0.3658 - accuracy: 0.8441 - val_loss: 0.3695 - val_accuracy: 0.8447\n",
            "Epoch 46/100\n",
            "3612/3612 - 7s - loss: 0.3652 - accuracy: 0.8442 - val_loss: 0.3688 - val_accuracy: 0.8453\n",
            "Epoch 47/100\n",
            "3612/3612 - 7s - loss: 0.3646 - accuracy: 0.8445 - val_loss: 0.3682 - val_accuracy: 0.8453\n",
            "Epoch 48/100\n",
            "3612/3612 - 7s - loss: 0.3640 - accuracy: 0.8446 - val_loss: 0.3677 - val_accuracy: 0.8457\n",
            "Epoch 49/100\n",
            "3612/3612 - 7s - loss: 0.3634 - accuracy: 0.8449 - val_loss: 0.3671 - val_accuracy: 0.8458\n",
            "Epoch 50/100\n",
            "3612/3612 - 7s - loss: 0.3628 - accuracy: 0.8451 - val_loss: 0.3666 - val_accuracy: 0.8458\n",
            "Epoch 51/100\n",
            "3612/3612 - 7s - loss: 0.3623 - accuracy: 0.8455 - val_loss: 0.3661 - val_accuracy: 0.8456\n",
            "Epoch 52/100\n",
            "3612/3612 - 7s - loss: 0.3617 - accuracy: 0.8455 - val_loss: 0.3656 - val_accuracy: 0.8460\n",
            "Epoch 53/100\n",
            "3612/3612 - 7s - loss: 0.3612 - accuracy: 0.8459 - val_loss: 0.3651 - val_accuracy: 0.8463\n",
            "Epoch 54/100\n",
            "3612/3612 - 7s - loss: 0.3607 - accuracy: 0.8463 - val_loss: 0.3646 - val_accuracy: 0.8461\n",
            "Epoch 55/100\n",
            "3612/3612 - 7s - loss: 0.3602 - accuracy: 0.8462 - val_loss: 0.3642 - val_accuracy: 0.8468\n",
            "Epoch 56/100\n",
            "3612/3612 - 7s - loss: 0.3598 - accuracy: 0.8465 - val_loss: 0.3637 - val_accuracy: 0.8470\n",
            "Epoch 57/100\n",
            "3612/3612 - 7s - loss: 0.3593 - accuracy: 0.8469 - val_loss: 0.3633 - val_accuracy: 0.8473\n",
            "Epoch 58/100\n",
            "3612/3612 - 7s - loss: 0.3589 - accuracy: 0.8472 - val_loss: 0.3629 - val_accuracy: 0.8473\n",
            "Epoch 59/100\n",
            "3612/3612 - 7s - loss: 0.3584 - accuracy: 0.8471 - val_loss: 0.3625 - val_accuracy: 0.8477\n",
            "Epoch 60/100\n",
            "3612/3612 - 7s - loss: 0.3580 - accuracy: 0.8471 - val_loss: 0.3621 - val_accuracy: 0.8477\n",
            "Epoch 61/100\n",
            "3612/3612 - 7s - loss: 0.3576 - accuracy: 0.8473 - val_loss: 0.3617 - val_accuracy: 0.8481\n",
            "Epoch 62/100\n",
            "3612/3612 - 7s - loss: 0.3572 - accuracy: 0.8477 - val_loss: 0.3613 - val_accuracy: 0.8482\n",
            "Epoch 63/100\n",
            "3612/3612 - 7s - loss: 0.3568 - accuracy: 0.8477 - val_loss: 0.3610 - val_accuracy: 0.8485\n",
            "Epoch 64/100\n",
            "3612/3612 - 7s - loss: 0.3565 - accuracy: 0.8478 - val_loss: 0.3606 - val_accuracy: 0.8486\n",
            "Epoch 65/100\n",
            "3612/3612 - 7s - loss: 0.3561 - accuracy: 0.8480 - val_loss: 0.3603 - val_accuracy: 0.8490\n",
            "Epoch 66/100\n",
            "3612/3612 - 7s - loss: 0.3558 - accuracy: 0.8482 - val_loss: 0.3600 - val_accuracy: 0.8493\n",
            "Epoch 67/100\n",
            "3612/3612 - 7s - loss: 0.3554 - accuracy: 0.8484 - val_loss: 0.3597 - val_accuracy: 0.8495\n",
            "Epoch 68/100\n",
            "3612/3612 - 7s - loss: 0.3551 - accuracy: 0.8486 - val_loss: 0.3594 - val_accuracy: 0.8495\n",
            "Epoch 69/100\n",
            "3612/3612 - 7s - loss: 0.3548 - accuracy: 0.8488 - val_loss: 0.3591 - val_accuracy: 0.8495\n",
            "Epoch 70/100\n",
            "3612/3612 - 7s - loss: 0.3545 - accuracy: 0.8488 - val_loss: 0.3588 - val_accuracy: 0.8495\n",
            "Epoch 71/100\n",
            "3612/3612 - 7s - loss: 0.3541 - accuracy: 0.8489 - val_loss: 0.3585 - val_accuracy: 0.8497\n",
            "Epoch 72/100\n",
            "3612/3612 - 7s - loss: 0.3539 - accuracy: 0.8490 - val_loss: 0.3582 - val_accuracy: 0.8500\n",
            "Epoch 73/100\n",
            "3612/3612 - 7s - loss: 0.3536 - accuracy: 0.8491 - val_loss: 0.3580 - val_accuracy: 0.8500\n",
            "Epoch 74/100\n",
            "3612/3612 - 7s - loss: 0.3533 - accuracy: 0.8492 - val_loss: 0.3577 - val_accuracy: 0.8500\n",
            "Epoch 75/100\n",
            "3612/3612 - 7s - loss: 0.3530 - accuracy: 0.8491 - val_loss: 0.3574 - val_accuracy: 0.8503\n",
            "Epoch 76/100\n",
            "3612/3612 - 7s - loss: 0.3527 - accuracy: 0.8491 - val_loss: 0.3572 - val_accuracy: 0.8506\n",
            "Epoch 77/100\n",
            "3612/3612 - 7s - loss: 0.3525 - accuracy: 0.8491 - val_loss: 0.3570 - val_accuracy: 0.8506\n",
            "Epoch 78/100\n",
            "3612/3612 - 7s - loss: 0.3522 - accuracy: 0.8492 - val_loss: 0.3567 - val_accuracy: 0.8507\n",
            "Epoch 79/100\n",
            "3612/3612 - 7s - loss: 0.3520 - accuracy: 0.8492 - val_loss: 0.3565 - val_accuracy: 0.8507\n",
            "Epoch 80/100\n",
            "3612/3612 - 7s - loss: 0.3518 - accuracy: 0.8493 - val_loss: 0.3563 - val_accuracy: 0.8508\n",
            "Epoch 81/100\n",
            "3612/3612 - 7s - loss: 0.3515 - accuracy: 0.8494 - val_loss: 0.3561 - val_accuracy: 0.8506\n",
            "Epoch 82/100\n",
            "3612/3612 - 7s - loss: 0.3513 - accuracy: 0.8495 - val_loss: 0.3559 - val_accuracy: 0.8509\n",
            "Epoch 83/100\n",
            "3612/3612 - 7s - loss: 0.3511 - accuracy: 0.8496 - val_loss: 0.3557 - val_accuracy: 0.8509\n",
            "Epoch 84/100\n",
            "3612/3612 - 7s - loss: 0.3509 - accuracy: 0.8497 - val_loss: 0.3555 - val_accuracy: 0.8509\n",
            "Epoch 85/100\n",
            "3612/3612 - 7s - loss: 0.3506 - accuracy: 0.8499 - val_loss: 0.3553 - val_accuracy: 0.8506\n",
            "Epoch 86/100\n",
            "3612/3612 - 7s - loss: 0.3504 - accuracy: 0.8501 - val_loss: 0.3551 - val_accuracy: 0.8506\n",
            "Epoch 87/100\n",
            "3612/3612 - 7s - loss: 0.3502 - accuracy: 0.8503 - val_loss: 0.3549 - val_accuracy: 0.8506\n",
            "Epoch 88/100\n",
            "3612/3612 - 7s - loss: 0.3500 - accuracy: 0.8504 - val_loss: 0.3547 - val_accuracy: 0.8505\n",
            "Epoch 89/100\n",
            "3612/3612 - 7s - loss: 0.3498 - accuracy: 0.8505 - val_loss: 0.3545 - val_accuracy: 0.8507\n",
            "Epoch 90/100\n",
            "3612/3612 - 7s - loss: 0.3497 - accuracy: 0.8506 - val_loss: 0.3543 - val_accuracy: 0.8507\n",
            "Epoch 91/100\n",
            "3612/3612 - 7s - loss: 0.3495 - accuracy: 0.8507 - val_loss: 0.3542 - val_accuracy: 0.8508\n",
            "Epoch 92/100\n",
            "3612/3612 - 7s - loss: 0.3493 - accuracy: 0.8506 - val_loss: 0.3540 - val_accuracy: 0.8509\n",
            "Epoch 93/100\n",
            "3612/3612 - 7s - loss: 0.3491 - accuracy: 0.8508 - val_loss: 0.3538 - val_accuracy: 0.8513\n",
            "Epoch 94/100\n",
            "3612/3612 - 7s - loss: 0.3489 - accuracy: 0.8508 - val_loss: 0.3537 - val_accuracy: 0.8515\n",
            "Epoch 95/100\n",
            "3612/3612 - 7s - loss: 0.3488 - accuracy: 0.8510 - val_loss: 0.3535 - val_accuracy: 0.8516\n",
            "Epoch 96/100\n",
            "3612/3612 - 7s - loss: 0.3486 - accuracy: 0.8511 - val_loss: 0.3534 - val_accuracy: 0.8518\n",
            "Epoch 97/100\n",
            "3612/3612 - 7s - loss: 0.3484 - accuracy: 0.8512 - val_loss: 0.3532 - val_accuracy: 0.8519\n",
            "Epoch 98/100\n",
            "3612/3612 - 7s - loss: 0.3483 - accuracy: 0.8513 - val_loss: 0.3531 - val_accuracy: 0.8520\n",
            "Epoch 99/100\n",
            "3612/3612 - 7s - loss: 0.3481 - accuracy: 0.8514 - val_loss: 0.3529 - val_accuracy: 0.8519\n",
            "Epoch 100/100\n",
            "3612/3612 - 7s - loss: 0.3479 - accuracy: 0.8513 - val_loss: 0.3528 - val_accuracy: 0.8519\n"
          ],
          "name": "stdout"
        }
      ]
    }
  ]
}